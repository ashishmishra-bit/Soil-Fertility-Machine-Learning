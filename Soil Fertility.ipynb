{
 "cells": [
  {
   "cell_type": "markdown",
   "id": "1878373b",
   "metadata": {},
   "source": [
    "# Soil Fertility Prediction"
   ]
  },
  {
   "cell_type": "code",
   "execution_count": 1,
   "id": "f6f99f88",
   "metadata": {},
   "outputs": [],
   "source": [
    "import pandas as pd"
   ]
  },
  {
   "cell_type": "code",
   "execution_count": 2,
   "id": "708f3a0b",
   "metadata": {},
   "outputs": [],
   "source": [
    "soil = pd.read_csv(\"data.csv\")"
   ]
  },
  {
   "cell_type": "code",
   "execution_count": 3,
   "id": "a73d7d9b",
   "metadata": {
    "scrolled": true
   },
   "outputs": [
    {
     "data": {
      "text/html": [
       "<div>\n",
       "<style scoped>\n",
       "    .dataframe tbody tr th:only-of-type {\n",
       "        vertical-align: middle;\n",
       "    }\n",
       "\n",
       "    .dataframe tbody tr th {\n",
       "        vertical-align: top;\n",
       "    }\n",
       "\n",
       "    .dataframe thead th {\n",
       "        text-align: right;\n",
       "    }\n",
       "</style>\n",
       "<table border=\"1\" class=\"dataframe\">\n",
       "  <thead>\n",
       "    <tr style=\"text-align: right;\">\n",
       "      <th></th>\n",
       "      <th>N</th>\n",
       "      <th>P</th>\n",
       "      <th>K</th>\n",
       "      <th>temperature</th>\n",
       "      <th>humidity</th>\n",
       "      <th>ph</th>\n",
       "      <th>rainfall</th>\n",
       "      <th>label</th>\n",
       "    </tr>\n",
       "  </thead>\n",
       "  <tbody>\n",
       "    <tr>\n",
       "      <th>0</th>\n",
       "      <td>90</td>\n",
       "      <td>42</td>\n",
       "      <td>43</td>\n",
       "      <td>20.879744</td>\n",
       "      <td>82.002744</td>\n",
       "      <td>6.502985</td>\n",
       "      <td>202.935536</td>\n",
       "      <td>rice</td>\n",
       "    </tr>\n",
       "    <tr>\n",
       "      <th>1</th>\n",
       "      <td>85</td>\n",
       "      <td>58</td>\n",
       "      <td>41</td>\n",
       "      <td>21.770462</td>\n",
       "      <td>80.319644</td>\n",
       "      <td>7.038096</td>\n",
       "      <td>226.655537</td>\n",
       "      <td>rice</td>\n",
       "    </tr>\n",
       "    <tr>\n",
       "      <th>2</th>\n",
       "      <td>60</td>\n",
       "      <td>55</td>\n",
       "      <td>44</td>\n",
       "      <td>23.004459</td>\n",
       "      <td>82.320763</td>\n",
       "      <td>7.840207</td>\n",
       "      <td>263.964248</td>\n",
       "      <td>rice</td>\n",
       "    </tr>\n",
       "    <tr>\n",
       "      <th>3</th>\n",
       "      <td>74</td>\n",
       "      <td>35</td>\n",
       "      <td>40</td>\n",
       "      <td>26.491096</td>\n",
       "      <td>80.158363</td>\n",
       "      <td>6.980401</td>\n",
       "      <td>242.864034</td>\n",
       "      <td>rice</td>\n",
       "    </tr>\n",
       "    <tr>\n",
       "      <th>4</th>\n",
       "      <td>78</td>\n",
       "      <td>42</td>\n",
       "      <td>42</td>\n",
       "      <td>20.130175</td>\n",
       "      <td>81.604873</td>\n",
       "      <td>7.628473</td>\n",
       "      <td>262.717340</td>\n",
       "      <td>rice</td>\n",
       "    </tr>\n",
       "  </tbody>\n",
       "</table>\n",
       "</div>"
      ],
      "text/plain": [
       "    N   P   K  temperature   humidity        ph    rainfall label\n",
       "0  90  42  43    20.879744  82.002744  6.502985  202.935536  rice\n",
       "1  85  58  41    21.770462  80.319644  7.038096  226.655537  rice\n",
       "2  60  55  44    23.004459  82.320763  7.840207  263.964248  rice\n",
       "3  74  35  40    26.491096  80.158363  6.980401  242.864034  rice\n",
       "4  78  42  42    20.130175  81.604873  7.628473  262.717340  rice"
      ]
     },
     "execution_count": 3,
     "metadata": {},
     "output_type": "execute_result"
    }
   ],
   "source": [
    "soil.head()"
   ]
  },
  {
   "cell_type": "code",
   "execution_count": 4,
   "id": "3e9468d3",
   "metadata": {},
   "outputs": [
    {
     "name": "stdout",
     "output_type": "stream",
     "text": [
      "<class 'pandas.core.frame.DataFrame'>\n",
      "RangeIndex: 2200 entries, 0 to 2199\n",
      "Data columns (total 8 columns):\n",
      " #   Column       Non-Null Count  Dtype  \n",
      "---  ------       --------------  -----  \n",
      " 0   N            2200 non-null   int64  \n",
      " 1   P            2200 non-null   int64  \n",
      " 2   K            2200 non-null   int64  \n",
      " 3   temperature  2200 non-null   float64\n",
      " 4   humidity     2200 non-null   float64\n",
      " 5   ph           2200 non-null   float64\n",
      " 6   rainfall     2200 non-null   float64\n",
      " 7   label        2200 non-null   object \n",
      "dtypes: float64(4), int64(3), object(1)\n",
      "memory usage: 137.6+ KB\n"
     ]
    }
   ],
   "source": [
    "soil.info()"
   ]
  },
  {
   "cell_type": "code",
   "execution_count": 5,
   "id": "e44828fa",
   "metadata": {},
   "outputs": [
    {
     "data": {
      "text/plain": [
       "40     44\n",
       "22     44\n",
       "27     42\n",
       "39     41\n",
       "31     41\n",
       "       ..\n",
       "127     2\n",
       "130     1\n",
       "46      1\n",
       "135     1\n",
       "139     1\n",
       "Name: N, Length: 137, dtype: int64"
      ]
     },
     "execution_count": 5,
     "metadata": {},
     "output_type": "execute_result"
    }
   ],
   "source": [
    "soil['N'].value_counts()"
   ]
  },
  {
   "cell_type": "code",
   "execution_count": 6,
   "id": "151a358f",
   "metadata": {},
   "outputs": [
    {
     "data": {
      "text/plain": [
       "60    56\n",
       "58    48\n",
       "56    46\n",
       "55    44\n",
       "57    42\n",
       "      ..\n",
       "90     2\n",
       "82     2\n",
       "83     2\n",
       "93     1\n",
       "84     1\n",
       "Name: P, Length: 117, dtype: int64"
      ]
     },
     "execution_count": 6,
     "metadata": {},
     "output_type": "execute_result"
    }
   ],
   "source": [
    "soil['P'].value_counts()"
   ]
  },
  {
   "cell_type": "code",
   "execution_count": 7,
   "id": "46e56743",
   "metadata": {},
   "outputs": [
    {
     "data": {
      "text/plain": [
       "17    90\n",
       "22    87\n",
       "15    86\n",
       "20    80\n",
       "25    78\n",
       "      ..\n",
       "84     8\n",
       "82     8\n",
       "13     7\n",
       "7      5\n",
       "80     4\n",
       "Name: K, Length: 73, dtype: int64"
      ]
     },
     "execution_count": 7,
     "metadata": {},
     "output_type": "execute_result"
    }
   ],
   "source": [
    "soil['K'].value_counts()"
   ]
  },
  {
   "cell_type": "code",
   "execution_count": 8,
   "id": "c53f942a",
   "metadata": {},
   "outputs": [
    {
     "data": {
      "text/plain": [
       "28.484449    1\n",
       "28.880789    1\n",
       "22.770356    1\n",
       "28.569735    1\n",
       "38.201682    1\n",
       "            ..\n",
       "27.912210    1\n",
       "27.923744    1\n",
       "29.628007    1\n",
       "25.467437    1\n",
       "26.736908    1\n",
       "Name: temperature, Length: 2200, dtype: int64"
      ]
     },
     "execution_count": 8,
     "metadata": {},
     "output_type": "execute_result"
    }
   ],
   "source": [
    "soil['temperature'].value_counts()"
   ]
  },
  {
   "cell_type": "code",
   "execution_count": 9,
   "id": "27f61bbf",
   "metadata": {},
   "outputs": [
    {
     "data": {
      "text/plain": [
       "34.133078    1\n",
       "90.598103    1\n",
       "24.253862    1\n",
       "92.254799    1\n",
       "93.724851    1\n",
       "            ..\n",
       "95.487634    1\n",
       "89.732667    1\n",
       "90.038631    1\n",
       "92.914873    1\n",
       "90.035771    1\n",
       "Name: humidity, Length: 2200, dtype: int64"
      ]
     },
     "execution_count": 9,
     "metadata": {},
     "output_type": "execute_result"
    }
   ],
   "source": [
    "soil['humidity'].value_counts()"
   ]
  },
  {
   "cell_type": "code",
   "execution_count": 10,
   "id": "730f46ec",
   "metadata": {},
   "outputs": [
    {
     "data": {
      "text/plain": [
       "5.940547    1\n",
       "6.376757    1\n",
       "5.561511    1\n",
       "7.533509    1\n",
       "6.484800    1\n",
       "           ..\n",
       "7.319952    1\n",
       "5.978634    1\n",
       "6.927918    1\n",
       "8.914075    1\n",
       "5.542690    1\n",
       "Name: ph, Length: 2200, dtype: int64"
      ]
     },
     "execution_count": 10,
     "metadata": {},
     "output_type": "execute_result"
    }
   ],
   "source": [
    "soil['ph'].value_counts()"
   ]
  },
  {
   "cell_type": "code",
   "execution_count": 11,
   "id": "7aa5dd69",
   "metadata": {},
   "outputs": [
    {
     "data": {
      "text/plain": [
       "162.593126    1\n",
       "53.124429     1\n",
       "103.923226    1\n",
       "40.810630     1\n",
       "39.238310     1\n",
       "             ..\n",
       "74.520820     1\n",
       "150.201214    1\n",
       "156.361617    1\n",
       "185.946143    1\n",
       "197.643971    1\n",
       "Name: rainfall, Length: 2200, dtype: int64"
      ]
     },
     "execution_count": 11,
     "metadata": {},
     "output_type": "execute_result"
    }
   ],
   "source": [
    "soil['rainfall'].value_counts()"
   ]
  },
  {
   "cell_type": "code",
   "execution_count": 12,
   "id": "9bd7394a",
   "metadata": {},
   "outputs": [
    {
     "data": {
      "text/html": [
       "<div>\n",
       "<style scoped>\n",
       "    .dataframe tbody tr th:only-of-type {\n",
       "        vertical-align: middle;\n",
       "    }\n",
       "\n",
       "    .dataframe tbody tr th {\n",
       "        vertical-align: top;\n",
       "    }\n",
       "\n",
       "    .dataframe thead th {\n",
       "        text-align: right;\n",
       "    }\n",
       "</style>\n",
       "<table border=\"1\" class=\"dataframe\">\n",
       "  <thead>\n",
       "    <tr style=\"text-align: right;\">\n",
       "      <th></th>\n",
       "      <th>N</th>\n",
       "      <th>P</th>\n",
       "      <th>K</th>\n",
       "      <th>temperature</th>\n",
       "      <th>humidity</th>\n",
       "      <th>ph</th>\n",
       "      <th>rainfall</th>\n",
       "    </tr>\n",
       "  </thead>\n",
       "  <tbody>\n",
       "    <tr>\n",
       "      <th>count</th>\n",
       "      <td>2200.000000</td>\n",
       "      <td>2200.000000</td>\n",
       "      <td>2200.000000</td>\n",
       "      <td>2200.000000</td>\n",
       "      <td>2200.000000</td>\n",
       "      <td>2200.000000</td>\n",
       "      <td>2200.000000</td>\n",
       "    </tr>\n",
       "    <tr>\n",
       "      <th>mean</th>\n",
       "      <td>50.551818</td>\n",
       "      <td>53.362727</td>\n",
       "      <td>48.149091</td>\n",
       "      <td>25.616244</td>\n",
       "      <td>71.481779</td>\n",
       "      <td>6.469480</td>\n",
       "      <td>103.463655</td>\n",
       "    </tr>\n",
       "    <tr>\n",
       "      <th>std</th>\n",
       "      <td>36.917334</td>\n",
       "      <td>32.985883</td>\n",
       "      <td>50.647931</td>\n",
       "      <td>5.063749</td>\n",
       "      <td>22.263812</td>\n",
       "      <td>0.773938</td>\n",
       "      <td>54.958389</td>\n",
       "    </tr>\n",
       "    <tr>\n",
       "      <th>min</th>\n",
       "      <td>0.000000</td>\n",
       "      <td>5.000000</td>\n",
       "      <td>5.000000</td>\n",
       "      <td>8.825675</td>\n",
       "      <td>14.258040</td>\n",
       "      <td>3.504752</td>\n",
       "      <td>20.211267</td>\n",
       "    </tr>\n",
       "    <tr>\n",
       "      <th>25%</th>\n",
       "      <td>21.000000</td>\n",
       "      <td>28.000000</td>\n",
       "      <td>20.000000</td>\n",
       "      <td>22.769375</td>\n",
       "      <td>60.261953</td>\n",
       "      <td>5.971693</td>\n",
       "      <td>64.551686</td>\n",
       "    </tr>\n",
       "    <tr>\n",
       "      <th>50%</th>\n",
       "      <td>37.000000</td>\n",
       "      <td>51.000000</td>\n",
       "      <td>32.000000</td>\n",
       "      <td>25.598693</td>\n",
       "      <td>80.473146</td>\n",
       "      <td>6.425045</td>\n",
       "      <td>94.867624</td>\n",
       "    </tr>\n",
       "    <tr>\n",
       "      <th>75%</th>\n",
       "      <td>84.250000</td>\n",
       "      <td>68.000000</td>\n",
       "      <td>49.000000</td>\n",
       "      <td>28.561654</td>\n",
       "      <td>89.948771</td>\n",
       "      <td>6.923643</td>\n",
       "      <td>124.267508</td>\n",
       "    </tr>\n",
       "    <tr>\n",
       "      <th>max</th>\n",
       "      <td>140.000000</td>\n",
       "      <td>145.000000</td>\n",
       "      <td>205.000000</td>\n",
       "      <td>43.675493</td>\n",
       "      <td>99.981876</td>\n",
       "      <td>9.935091</td>\n",
       "      <td>298.560117</td>\n",
       "    </tr>\n",
       "  </tbody>\n",
       "</table>\n",
       "</div>"
      ],
      "text/plain": [
       "                 N            P            K  temperature     humidity  \\\n",
       "count  2200.000000  2200.000000  2200.000000  2200.000000  2200.000000   \n",
       "mean     50.551818    53.362727    48.149091    25.616244    71.481779   \n",
       "std      36.917334    32.985883    50.647931     5.063749    22.263812   \n",
       "min       0.000000     5.000000     5.000000     8.825675    14.258040   \n",
       "25%      21.000000    28.000000    20.000000    22.769375    60.261953   \n",
       "50%      37.000000    51.000000    32.000000    25.598693    80.473146   \n",
       "75%      84.250000    68.000000    49.000000    28.561654    89.948771   \n",
       "max     140.000000   145.000000   205.000000    43.675493    99.981876   \n",
       "\n",
       "                ph     rainfall  \n",
       "count  2200.000000  2200.000000  \n",
       "mean      6.469480   103.463655  \n",
       "std       0.773938    54.958389  \n",
       "min       3.504752    20.211267  \n",
       "25%       5.971693    64.551686  \n",
       "50%       6.425045    94.867624  \n",
       "75%       6.923643   124.267508  \n",
       "max       9.935091   298.560117  "
      ]
     },
     "execution_count": 12,
     "metadata": {},
     "output_type": "execute_result"
    }
   ],
   "source": [
    "soil.describe()"
   ]
  },
  {
   "cell_type": "code",
   "execution_count": 13,
   "id": "2a4f8827",
   "metadata": {},
   "outputs": [],
   "source": [
    "##%matplotlib inline"
   ]
  },
  {
   "cell_type": "code",
   "execution_count": 14,
   "id": "a79617e8",
   "metadata": {},
   "outputs": [],
   "source": [
    "##import matplotlib.pylot as plt\n",
    "##soil.hist(bins=50 , figsize=(20 , 15))"
   ]
  },
  {
   "cell_type": "markdown",
   "id": "5c8473d9",
   "metadata": {},
   "source": [
    "# Train-Test Split"
   ]
  },
  {
   "cell_type": "code",
   "execution_count": 15,
   "id": "56f5513c",
   "metadata": {},
   "outputs": [],
   "source": [
    "import numpy as np\n",
    "def split_train_test(data  , test_ratio):\n",
    "    np.random.seed(42)\n",
    "    shuffled = np.random.permutation(len(data))\n",
    "    test_set_size = int(len(data) * test_ratio)\n",
    "    test_index = shuffled[:test_set_size]\n",
    "    train_index = shuffled[test_set_size:]\n",
    "    return data.iloc[train_index] , data.iloc[test_index]"
   ]
  },
  {
   "cell_type": "code",
   "execution_count": 16,
   "id": "bbd5d4fe",
   "metadata": {},
   "outputs": [],
   "source": [
    "train_set , test_set = split_train_test(soil , 0.2)"
   ]
  },
  {
   "cell_type": "code",
   "execution_count": 17,
   "id": "58b563d4",
   "metadata": {},
   "outputs": [
    {
     "name": "stdout",
     "output_type": "stream",
     "text": [
      "Rows in Train Set : 1760\n",
      "Rows in Test Set : 440\n",
      "\n"
     ]
    }
   ],
   "source": [
    "print(f\"Rows in Train Set : {len(train_set)}\\nRows in Test Set : {len(test_set)}\\n\")"
   ]
  },
  {
   "cell_type": "markdown",
   "id": "0aabd2a5",
   "metadata": {},
   "source": [
    "# Train-Test Split Using SckitLearn\n"
   ]
  },
  {
   "cell_type": "code",
   "execution_count": 18,
   "id": "fccfcb29",
   "metadata": {},
   "outputs": [
    {
     "name": "stdout",
     "output_type": "stream",
     "text": [
      "Rows in Train Set : 1760\n",
      "Rows in Test Set : 440\n",
      "\n"
     ]
    }
   ],
   "source": [
    "from sklearn.model_selection import train_test_split\n",
    "train_set , test_set = train_test_split(soil , test_size=0.2 , random_state=42)\n",
    "print(f\"Rows in Train Set : {len(train_set)}\\nRows in Test Set : {len(test_set)}\\n\")"
   ]
  },
  {
   "cell_type": "markdown",
   "id": "1a5bd919",
   "metadata": {},
   "source": [
    "# Correlations\n",
    "Detecting the protionality"
   ]
  },
  {
   "cell_type": "code",
   "execution_count": 19,
   "id": "186fc191",
   "metadata": {},
   "outputs": [],
   "source": [
    "corr_matrix = soil.corr()"
   ]
  },
  {
   "cell_type": "code",
   "execution_count": 24,
   "id": "79b975cf",
   "metadata": {},
   "outputs": [
    {
     "data": {
      "text/plain": [
       "N              1.000000\n",
       "humidity       0.190688\n",
       "ph             0.096683\n",
       "rainfall       0.059020\n",
       "temperature    0.026504\n",
       "K             -0.140512\n",
       "P             -0.231460\n",
       "Name: N, dtype: float64"
      ]
     },
     "execution_count": 24,
     "metadata": {},
     "output_type": "execute_result"
    }
   ],
   "source": [
    "corr_matrix['N'].sort_values(ascending=False)"
   ]
  },
  {
   "cell_type": "code",
   "execution_count": 25,
   "id": "341a74ee",
   "metadata": {},
   "outputs": [
    {
     "data": {
      "text/plain": [
       "P              1.000000\n",
       "K              0.736232\n",
       "rainfall      -0.063839\n",
       "humidity      -0.118734\n",
       "temperature   -0.127541\n",
       "ph            -0.138019\n",
       "N             -0.231460\n",
       "Name: P, dtype: float64"
      ]
     },
     "execution_count": 25,
     "metadata": {},
     "output_type": "execute_result"
    }
   ],
   "source": [
    "corr_matrix['P'].sort_values(ascending=False)"
   ]
  },
  {
   "cell_type": "code",
   "execution_count": 26,
   "id": "8589414d",
   "metadata": {},
   "outputs": [
    {
     "data": {
      "text/plain": [
       "K              1.000000\n",
       "P              0.736232\n",
       "humidity       0.190859\n",
       "rainfall      -0.053461\n",
       "N             -0.140512\n",
       "temperature   -0.160387\n",
       "ph            -0.169503\n",
       "Name: K, dtype: float64"
      ]
     },
     "execution_count": 26,
     "metadata": {},
     "output_type": "execute_result"
    }
   ],
   "source": [
    "corr_matrix['K'].sort_values(ascending=False)"
   ]
  },
  {
   "cell_type": "code",
   "execution_count": 27,
   "id": "a824ef2f",
   "metadata": {},
   "outputs": [
    {
     "data": {
      "text/plain": [
       "humidity       1.000000\n",
       "temperature    0.205320\n",
       "K              0.190859\n",
       "N              0.190688\n",
       "rainfall       0.094423\n",
       "ph            -0.008483\n",
       "P             -0.118734\n",
       "Name: humidity, dtype: float64"
      ]
     },
     "execution_count": 27,
     "metadata": {},
     "output_type": "execute_result"
    }
   ],
   "source": [
    "corr_matrix['humidity'].sort_values(ascending=False)"
   ]
  },
  {
   "cell_type": "code",
   "execution_count": 28,
   "id": "4fa81e50",
   "metadata": {},
   "outputs": [
    {
     "data": {
      "text/plain": [
       "temperature    1.000000\n",
       "humidity       0.205320\n",
       "N              0.026504\n",
       "ph            -0.017795\n",
       "rainfall      -0.030084\n",
       "P             -0.127541\n",
       "K             -0.160387\n",
       "Name: temperature, dtype: float64"
      ]
     },
     "execution_count": 28,
     "metadata": {},
     "output_type": "execute_result"
    }
   ],
   "source": [
    "corr_matrix['temperature'].sort_values(ascending=False)"
   ]
  },
  {
   "cell_type": "code",
   "execution_count": 29,
   "id": "4bc180af",
   "metadata": {},
   "outputs": [
    {
     "data": {
      "text/plain": [
       "ph             1.000000\n",
       "N              0.096683\n",
       "humidity      -0.008483\n",
       "temperature   -0.017795\n",
       "rainfall      -0.109069\n",
       "P             -0.138019\n",
       "K             -0.169503\n",
       "Name: ph, dtype: float64"
      ]
     },
     "execution_count": 29,
     "metadata": {},
     "output_type": "execute_result"
    }
   ],
   "source": [
    "corr_matrix['ph'].sort_values(ascending=False)"
   ]
  },
  {
   "cell_type": "code",
   "execution_count": 30,
   "id": "b78ada4b",
   "metadata": {},
   "outputs": [
    {
     "data": {
      "text/plain": [
       "rainfall       1.000000\n",
       "humidity       0.094423\n",
       "N              0.059020\n",
       "temperature   -0.030084\n",
       "K             -0.053461\n",
       "P             -0.063839\n",
       "ph            -0.109069\n",
       "Name: rainfall, dtype: float64"
      ]
     },
     "execution_count": 30,
     "metadata": {},
     "output_type": "execute_result"
    }
   ],
   "source": [
    "corr_matrix['rainfall'].sort_values(ascending=False)"
   ]
  },
  {
   "cell_type": "code",
   "execution_count": null,
   "id": "2b3e7866",
   "metadata": {},
   "outputs": [],
   "source": []
  }
 ],
 "metadata": {
  "kernelspec": {
   "display_name": "Python 3",
   "language": "python",
   "name": "python3"
  },
  "language_info": {
   "codemirror_mode": {
    "name": "ipython",
    "version": 3
   },
   "file_extension": ".py",
   "mimetype": "text/x-python",
   "name": "python",
   "nbconvert_exporter": "python",
   "pygments_lexer": "ipython3",
   "version": "3.8.8"
  }
 },
 "nbformat": 4,
 "nbformat_minor": 5
}
